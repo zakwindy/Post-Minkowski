{
 "cells": [
  {
   "cell_type": "markdown",
   "metadata": {},
   "source": [
    "### Run these before running anything else and pick path file for data"
   ]
  },
  {
   "cell_type": "code",
   "execution_count": 24,
   "metadata": {},
   "outputs": [],
   "source": [
    "using Pkg\n",
    "using Plots\n",
    "using Random\n",
    "using DataFrames\n",
    "using CSV"
   ]
  },
  {
   "cell_type": "code",
   "execution_count": 23,
   "metadata": {},
   "outputs": [
    {
     "data": {
      "text/plain": [
       "\"/Users/justin_tackett/Documents\""
      ]
     },
     "execution_count": 23,
     "metadata": {},
     "output_type": "execute_result"
    }
   ],
   "source": [
    "userpath = \"/Users/justin_tackett/Documents\""
   ]
  },
  {
   "cell_type": "code",
   "execution_count": 18,
   "metadata": {
    "scrolled": true
   },
   "outputs": [
    {
     "name": "stderr",
     "output_type": "stream",
     "text": [
      "\u001b[32m\u001b[1m   Updating\u001b[22m\u001b[39m registry at `~/.julia/registries/General`\n",
      "######################################################################### 100.0%\n",
      "\u001b[32m\u001b[1m  Resolving\u001b[22m\u001b[39m package versions...\n",
      "\u001b[32m\u001b[1mNo Changes\u001b[22m\u001b[39m to `~/.julia/environments/v1.5/Project.toml`\n",
      "\u001b[32m\u001b[1mNo Changes\u001b[22m\u001b[39m to `~/.julia/environments/v1.5/Manifest.toml`\n",
      "\u001b[32m\u001b[1m  Resolving\u001b[22m\u001b[39m package versions...\n",
      "\u001b[32m\u001b[1mNo Changes\u001b[22m\u001b[39m to `~/.julia/environments/v1.5/Project.toml`\n",
      "\u001b[32m\u001b[1mNo Changes\u001b[22m\u001b[39m to `~/.julia/environments/v1.5/Manifest.toml`\n"
     ]
    }
   ],
   "source": [
    "#First time run, not necessary to run after running it once on machine\n",
    "\n",
    "Pkg.add(\"DataFrames\")\n",
    "Pkg.add(\"CSV\")"
   ]
  },
  {
   "cell_type": "markdown",
   "metadata": {},
   "source": [
    "# Distributed N-Body"
   ]
  },
  {
   "cell_type": "code",
   "execution_count": 29,
   "metadata": {},
   "outputs": [
    {
     "data": {
      "text/plain": [
       "\"/Users/justin_tackett/Documents\""
      ]
     },
     "execution_count": 29,
     "metadata": {},
     "output_type": "execute_result"
    }
   ],
   "source": [
    "## User Data\n",
    "\n",
    "usernbody  = 100 \n",
    "usermmin   = 1\n",
    "usermmax   = 2\n",
    "usermaxvel = 100\n",
    "userxmin   = -100\n",
    "userxmax   = 100\n",
    "userymin   = -100\n",
    "userymax   = 100\n",
    "userzmin   = -100\n",
    "userzmax   = 100\n",
    "usergravbound = true\n",
    "userG = 1\n",
    "userc = 1\n",
    "KtoP  = .6 #The ratio of the totel kinetic energy to total potential energy; must be less than one, if too close to one objects may fly off\n"
   ]
  },
  {
   "cell_type": "code",
   "execution_count": 27,
   "metadata": {},
   "outputs": [
    {
     "data": {
      "text/plain": [
       "generateRandomNBodies (generic function with 5 methods)"
      ]
     },
     "execution_count": 27,
     "metadata": {},
     "output_type": "execute_result"
    }
   ],
   "source": [
    "function R(x1,y1,z1,x2,y2,z2,ndim)\n",
    "    if(ndim==2)\n",
    "        return ((x2-x1)^2+(y2-y1)^2+(z2-z1)^2)^(1/2)\n",
    "    elseif(ndim==3)\n",
    "        return ((x2-x1)^2+(y2-y1)^2)^(1/2)\n",
    "    else\n",
    "        println(\"Error with function R, ndim not valid\")\n",
    "    end\n",
    "    \n",
    "end\n",
    "\n",
    "function V(vx,vy,vz,ndim)\n",
    "    if(ndim==2)\n",
    "        return ((vx)^2+(vy)^2+(vz)^2)^(1/2)\n",
    "    elseif(ndim==3)\n",
    "        return ((vx)^2+(vy)^2)^(1/2)\n",
    "    else\n",
    "        println(\"Error with function R, ndim not valid\")\n",
    "    end\n",
    "    \n",
    "end\n",
    "\n",
    "function KE(m,vx,vy,vz,ndim)\n",
    "    return .5*m*(V(vx,vy,vz,ndim)^2)\n",
    "end\n",
    "\n",
    "function PE(x1,y1,z1,x2,y2,z2,ndim,G,m1,m2)\n",
    "    return G*m1*m2/R(x1,y1,z1,x2,y2,z2,ndim)\n",
    "end\n",
    "\n",
    "\n",
    "\n",
    "    \n",
    "\n",
    "\n",
    "\n",
    "function generateRandomNBodies(nbody, mmin, mmax, maxvel, xmin, xmax, ymin, ymax, zmin=0, zmax=0, gravbound::Bool=true, seed=1234)\n",
    "    xvals  = zeros(nbody)\n",
    "    yvals  = zeros(nbody)\n",
    "    vxvals = zeros(nbody)\n",
    "    vyvals = zeros(nbody)\n",
    "    mvals  = zeros(nbody)\n",
    "    pxvals = zeros(nbody)\n",
    "    pyvals = zeros(nbody)\n",
    "    pzvals = zeros(nbody)\n",
    "    totpot = 0\n",
    "    totkin = 0\n",
    "    \n",
    "    #Determine number of dimensions\n",
    "    ##    \n",
    "    if(zmin==0 && zmax==0)\n",
    "        ndim = 2\n",
    "    else\n",
    "        ndim = 3\n",
    "    end\n",
    "    \n",
    "    if(ndim==3)\n",
    "        zvals  = zeros(nbody)\n",
    "        vzvals = zeros(nbody)\n",
    "    end\n",
    "    \n",
    "    #Determine if virial theorem should be used\n",
    "        \n",
    "    if(gravbound==true)\n",
    "        \n",
    "        #Virial Theorem FIX_ME\n",
    "        #Rescale Velocities\n",
    "        #Check for velocity distributions in clusters\n",
    "        #Trial and error to find what Kin En is too small\n",
    "        #Look into ang momentum\n",
    "        #Look into gravitational stability of many bodies\n",
    "        #Numerical Recipes, look for random generation on distribution\n",
    "        #Transform to center of mass frame\n",
    "        #Set up with circluar orbits\n",
    "        \n",
    "        #Two euler angles, semi major axis, eccentricity\n",
    "        #Conventions by intrinsic rotations\n",
    "            \n",
    "        rng = MersenneTwister(seed)\n",
    "        if(ndim==2)\n",
    "            for i in 1:nbody\n",
    "                xvals[i]  = rand(rng, Float64)*(xmax-xmin)+xmin\n",
    "                yvals[i]  = rand(rng, Float64)*(ymax-ymin)+ymin\n",
    "                mvals[i]  = rand(rng, Float64)*(mmax-mmin)+mmin\n",
    "                vxvals[i] = rand(rng, Float64)*(maxvel/(2^(1/2)))*2-maxvel/(2^(1/2))\n",
    "                vyvals[i] = rand(rng, Float64)*(maxvel/(2^(1/2)))*2-maxvel/(2^(1/2))\n",
    "            end\n",
    "        elseif(ndim==3)\n",
    "            for i in 1:nbody\n",
    "                xvals[i]  = rand(rng, Float64)*(xmax-xmin)+xmin\n",
    "                yvals[i]  = rand(rng, Float64)*(ymax-ymin)+ymin\n",
    "                zvals[i]  = rand(rng, Float64)*(zmax-zmin)+zmin\n",
    "                mvals[i]  = rand(rng, Float64)*(mmax-mmin)+mmin\n",
    "                vxvals[i] = rand(rng, Float64)*(maxvel/(3^(1/2)))*2-maxvel/(3^(1/2)) #If something goes wrong, check these first\n",
    "                vyvals[i] = rand(rng, Float64)*(maxvel/(3^(1/2)))*2-maxvel/(3^(1/2))\n",
    "                vzvals[i] = rand(rng, Float64)*(maxvel/(3^(1/2)))*2-maxvel/(3^(1/2))\n",
    "            end\n",
    "        else\n",
    "            println(\"Error with Random Generation, ndim not passed correctly, actual value \",ndim)\n",
    "        end\n",
    "        \n",
    "        for i in 1:nbody\n",
    "            if(ndim==2)\n",
    "                totkin = totkin + KE(mvals[i],vxvals[i],vyvals[i],0,ndim)\n",
    "            elseif(ndim==3)\n",
    "                totkin = totkin + KE(mvals[i],vxvals[i],vyvals[i],vzvals[i],ndim)\n",
    "            end\n",
    "        end\n",
    "        \n",
    "        for i in 1:(nbody - 1)\n",
    "            for j in (i+1):nbody\n",
    "                if(ndim==2)\n",
    "                    totpot = totpot + PE(xvals[i],yvals[i],0,xvals[j],yvals[j],0,ndim,userG,mvals[i],mvals[j])\n",
    "                elseif(ndim==3)\n",
    "                    totpot = totpot + PE(xvals[i],yvals[i],zvals[i],xvals[j],yvals[j],zvals[j],ndim,userG,mvals[i],mvals[j])\n",
    "                end\n",
    "            end\n",
    "        end\n",
    "        \n",
    "        vmod = sqrt(KtoP*totpot/totkin)\n",
    "        \n",
    "        vxvals = vxvals * vmod\n",
    "        vyvals = vyvals * vmod\n",
    "        vzvals = vzvals * vmod\n",
    "        \n",
    "        \n",
    "                    \n",
    "    else\n",
    "        \n",
    "        #Random generation\n",
    "        #To add later:\n",
    "        # -Normal randomization option for RNG\n",
    "            \n",
    "        rng = MersenneTwister(seed)\n",
    "        if(ndim==2)\n",
    "            for i in 1:nbody\n",
    "                xvals[i]  = rand(rng, Float64)*(xmax-xmin)+xmin\n",
    "                yvals[i]  = rand(rng, Float64)*(ymax-ymin)+ymin\n",
    "                mvals[i]  = rand(rng, Float64)*(mmax-mmin)+mmin\n",
    "                vxvals[i] = rand(rng, Float64)*(maxvel/(2^(1/2)))*2-maxvel/(2^(1/2))\n",
    "                vyvals[i] = rand(rng, Float64)*(maxvel/(2^(1/2)))*2-maxvel/(2^(1/2))\n",
    "            end\n",
    "        elseif(ndim==3)\n",
    "            for i in 1:nbody\n",
    "                xvals[i]  = rand(rng, Float64)*(xmax-xmin)+xmin\n",
    "                yvals[i]  = rand(rng, Float64)*(ymax-ymin)+ymin\n",
    "                zvals[i]  = rand(rng, Float64)*(zmax-zmin)+zmin\n",
    "                mvals[i]  = rand(rng, Float64)*(mmax-mmin)+mmin\n",
    "                vxvals[i] = rand(rng, Float64)*(maxvel/(3^(1/2)))*2-maxvel/(3^(1/2)) #If something goes wrong, check these first\n",
    "                vyvals[i] = rand(rng, Float64)*(maxvel/(3^(1/2)))*2-maxvel/(3^(1/2))\n",
    "                vzvals[i] = rand(rng, Float64)*(maxvel/(3^(1/2)))*2-maxvel/(3^(1/2))\n",
    "            end\n",
    "        else\n",
    "            println(\"Error with Random Generation, ndim not passed correctly, actual value \",ndim)\n",
    "        end\n",
    "        \n",
    "    end\n",
    "    if(ndim==2)\n",
    "        for i in 1:nbody\n",
    "            pxvals[i] = vxvals[i] * mvals[i]\n",
    "            pyvals[i] = vyvals[i] * mvals[i]\n",
    "        end\n",
    "    elseif(ndim==3)\n",
    "        for i in 1:nbody\n",
    "            pxvals[i] = vxvals[i] * mvals[i]\n",
    "            pyvals[i] = vyvals[i] * mvals[i]\n",
    "            pzvals[i] = vzvals[i] * mvals[i]\n",
    "        end\n",
    "    end\n",
    "    \n",
    "    \n",
    "    #Mass, coodrinates, momenta    \n",
    "    if(ndim==2)\n",
    "        df = DataFrame(x = xvals,\n",
    "                        y  = yvals,\n",
    "                        px = pxvals,\n",
    "                        py = pyvals,\n",
    "                        )\n",
    "    elseif(ndim==3)\n",
    "        df = DataFrame(x = xvals,\n",
    "                        y  = yvals,\n",
    "                        z  = zvals,\n",
    "                        px = pxvals,\n",
    "                        py = pyvals,\n",
    "                        pz = pzvals,\n",
    "                        )\n",
    "    end\n",
    "    \n",
    "    CSV.write(userpath * \"/nbodyinitialData.csv\", df)\n",
    "end"
   ]
  },
  {
   "cell_type": "code",
   "execution_count": 31,
   "metadata": {},
   "outputs": [
    {
     "data": {
      "text/plain": [
       "\"/Users/justin_tackett/Documents/nbodyinitialData.csv\""
      ]
     },
     "execution_count": 31,
     "metadata": {},
     "output_type": "execute_result"
    }
   ],
   "source": [
    "generateRandomNBodies(usernbody, usermmin, usermmax, usermaxvel, userxmin, userxmax, userymin, userymax, userzmin, userzmax, usergravbound, 1234)"
   ]
  },
  {
   "cell_type": "markdown",
   "metadata": {},
   "source": [
    "# 3 Body (Non-Kozai)"
   ]
  },
  {
   "cell_type": "code",
   "execution_count": 10,
   "metadata": {},
   "outputs": [
    {
     "data": {
      "text/plain": [
       "\"/Users/justin_tackett/Documents\""
      ]
     },
     "execution_count": 10,
     "metadata": {},
     "output_type": "execute_result"
    }
   ],
   "source": [
    "m1 = 1\n",
    "m2 = 1\n",
    "m3 = 1 #Elliptical object\n",
    "userG = 1\n",
    "CR = 10 #Circular orbit R, how far are m1 and m2 from each other initially, in code unites\n",
    "ER = 10 #Distance of the third, elliptical object from the center of mass\n",
    "theta = 45; #Incline of mass 3 in degrees up from the orbital plane\n",
    "ecc = .5 #Eccentricity"
   ]
  },
  {
   "cell_type": "code",
   "execution_count": 12,
   "metadata": {},
   "outputs": [],
   "source": [
    "v1x = 0\n",
    "v2x = 0\n",
    "v1y = sqrt(userG*m2/CR);\n",
    "v2y = -sqrt(userG*m1/CR);\n",
    "v1z = 0\n",
    "v2z = 0\n",
    "x1 = CR/2\n",
    "x2 = -CR/2\n",
    "y1 = 0\n",
    "y2 = 0\n",
    "z1 = 0\n",
    "z2 = 0\n",
    "\n",
    "x3 = 0\n",
    "y3 = ER * cos(theta * 180/(2*pi)) #These three can be rearranged to get different orientation\n",
    "z3 = ER * sin(theta * 180/(2*pi))\n",
    "a = ER/(1+ecc)\n",
    "v3x = sqrt(userG*(m1+m2)*((2/ER)-(1/a)))\n",
    "v3y = 0\n",
    "v3z = 0;"
   ]
  },
  {
   "cell_type": "code",
   "execution_count": 15,
   "metadata": {},
   "outputs": [
    {
     "ename": "LoadError",
     "evalue": "UndefVarError: DataFrame not defined",
     "output_type": "error",
     "traceback": [
      "UndefVarError: DataFrame not defined",
      "",
      "Stacktrace:",
      " [1] top-level scope at In[15]:8",
      " [2] include_string(::Function, ::Module, ::String, ::String) at ./loading.jl:1091"
     ]
    }
   ],
   "source": [
    "xvals = [x1,x2,x3]\n",
    "yvals = [y1,y2,y3]\n",
    "zvals = [z1,z2,z3]\n",
    "pxvals = [v1x*m1,v2x*m2,v3x*m3]\n",
    "pyvals = [v1y*m1,v2y*m2,v3y*m3]\n",
    "pzvals = [v1z*m1,v2z*m2,v3z*m3]\n",
    "\n",
    "df = DataFrame(x = xvals,\n",
    "                        y  = yvals,\n",
    "                        z  = zvals,\n",
    "                        px = pxvals,\n",
    "                        py = pyvals,\n",
    "                        pz = pzvals,\n",
    "                        )\n",
    "CSV.write(userpath * \"/nbodyinitialData.csv\", df)"
   ]
  },
  {
   "cell_type": "markdown",
   "metadata": {},
   "source": [
    "# Kozai Mechanism Initial Data"
   ]
  },
  {
   "cell_type": "code",
   "execution_count": 2,
   "metadata": {},
   "outputs": [],
   "source": [
    "m1 = 1;\n",
    "m2 = 1;\n",
    "m3 = 1;        # Elliptical object\n",
    "mbi = m1 + m2; # Mass of the binary\n",
    "userG = 1;\n",
    "\n",
    "# Inner Orbital Elements\n",
    "\n",
    "aIn     = .1;            # Semimajor Axis\n",
    "eIn     = .6;           # Eccentricity\n",
    "iIn     = 30 *(pi/180); # Inclination (input degrees, comes out radians)\n",
    "wIn     = pi *(pi/180); # Argument of pariastron (input degrees, comes out radians)\n",
    "omegaIn = 0 *(pi/180);  # Longitude of ascending node (input degrees, comes out radians)\n",
    "MIn     = 0 *(pi/180);  # Mean anomaly (input degrees, comes out radians)\n",
    "\n",
    "# Outer Orbital Elements\n",
    "\n",
    "aOut     = 10;           # Semimajor Axis\n",
    "eOut     = 0;            # Eccentricity\n",
    "iOut     = 0 *(pi/180);  # Inclination (input degrees, comes out radians)\n",
    "wOut     = 0 *(pi/180);  # Argument of pariastron, undefined in circular orbits (input degrees, comes out radians)\n",
    "omegaOut = 0 *(pi/180);  # Longitude of ascending node (input degrees, comes out radians)\n",
    "MOut     = 20 *(pi/180); # Mean anomaly (input degrees, comes out radians)\n",
    "\n",
    "\n",
    "# Determining the eccentric anomaly\n",
    "\n",
    "tol0 = 10^-6; # Tolerance of eccentric anomaly evaluation\n",
    "\n",
    "u0 = 10;"
   ]
  },
  {
   "cell_type": "code",
   "execution_count": 3,
   "metadata": {},
   "outputs": [
    {
     "data": {
      "text/plain": [
       "initialdata (generic function with 1 method)"
      ]
     },
     "execution_count": 3,
     "metadata": {},
     "output_type": "execute_result"
    }
   ],
   "source": [
    "function initialdata(m1,m2,userG,a,e,i,w,omega,M,tol0,u0)\n",
    "    \n",
    "    mu=m1*m2/(m1+m2)\n",
    "    \n",
    "    tol  = 1;      # Initalizing iterative tolerance\n",
    "    \n",
    "    while abs(tol) > tol0\n",
    "        u0 = u0 - (-M + u0 - e*sin(u0))/(1 - e*cos(u0))\n",
    "        tol = -M + u0 - e*sin(u0)\n",
    "    end\n",
    "\n",
    "    # Using eccentric anomaly to find true anomaly\n",
    "\n",
    "    f = atan(sin(u0)*sqrt(1-e^2)/(cos(u0)-e));\n",
    "\n",
    "    # Solving for Polar Coordinates\n",
    "\n",
    "    r     = a*(1-e^2)/(1-e*cos(f));\n",
    "    phi   = omega + atan(tan(w+f)*cos(i));\n",
    "    theta = acos(sin(w+f)*sin(i));\n",
    "\n",
    "    # Some useful quantities in determining velocities\n",
    "\n",
    "    gr     = a*(1-e^2)*e*sin(f)/(1+e*cos(f))^2;\n",
    "    gtheta = (-1/sin(theta))*cos(w+f)*sin(i);\n",
    "    gphi   = cos(phi-omega)^2*cos(i)/cos(w+f)^2;\n",
    "\n",
    "    fdot   = sqrt(userG*mbi*((2/r)-(1/a))*1/(gr^2 + (r*gtheta)^2 + (r*sin(theta)*gphi)^2))\n",
    "\n",
    "    # Setting up polar velocities\n",
    "\n",
    "    rdot     = gr*fdot;\n",
    "    thetadot = gtheta*fdot;\n",
    "    phidot   = gphi*fdot;\n",
    "    \n",
    "    ### TODO: Convert Polar speeds and coordinates to cartesian\n",
    "    #         Determine where exactly this function can be used\n",
    "    #         Implement this function to get initial data\n",
    "    #         Return correct data points\n",
    "    #         Add conserved quantities\n",
    "    ###\n",
    "    \n",
    "    x=r*sin(theta)*cos(phi)\n",
    "    y=r*sin(theta)*sin(phi)\n",
    "    z=r*cos(theta)\n",
    "    \n",
    "    # Double check math for everything past this point\n",
    "    \n",
    "    xdot = rdot*sin(theta)*cos(phi) + r*thetadot*cos(theta)*cos(phi) - phidot*r*sin(phi)*sin(theta)\n",
    "    ydot = rdot*sin(theta)*sin(phi) + r*thetadot*cos(theta)*sin(phi) + r*phidot*sin(theta)*cos(phi)\n",
    "    zdot = rdot*cos(theta) - r*thetadot*sin(theta)\n",
    "    \n",
    "    x1 = m2*x/(m1+m2)\n",
    "    y1 = m2*y/(m1+m2)\n",
    "    z1 = m2*z/(m1+m2)\n",
    "    \n",
    "    x2 = -m1*x/(m1+m2)\n",
    "    y2 = -m1*y/(m1+m2)\n",
    "    z2 = -m1*z/(m1+m2)\n",
    "    \n",
    "    px1 = mu*xdot\n",
    "    py1 = mu*ydot\n",
    "    pz1 = mu*zdot\n",
    "    \n",
    "    px2 = -mu*xdot\n",
    "    py2 = -mu*ydot\n",
    "    pz2 = -mu*zdot\n",
    "    \n",
    "    [[x1,y1,z1],[x2,y2,z2],[px1,py1,pz1],[px2,py2,pz2]]\n",
    "    \n",
    "    \n",
    "    \n",
    "    # Calculate angular momentum\n",
    "    # linear momentum = mu * v\n",
    "    # mv1 + mv2 = 0\n",
    "    # Consider that c=1, G=1\n",
    "    # Double check that using SI unites\n",
    "    \n",
    "end\n",
    "    \n",
    "    \n"
   ]
  },
  {
   "cell_type": "markdown",
   "metadata": {},
   "source": [
    "## Three Body - Finding values from KM Paper"
   ]
  },
  {
   "cell_type": "code",
   "execution_count": 20,
   "metadata": {},
   "outputs": [],
   "source": [
    "valuesIn=initialdata(m1,m2,userG,aIn,eIn,iIn,wIn,omegaIn,MIn,tol0,u0);\n",
    "valuesOut=initialdata(m3,mbi,userG,aOut,eOut,iOut,wOut,omegaOut,MOut,tol0,u0);"
   ]
  },
  {
   "cell_type": "code",
   "execution_count": 18,
   "metadata": {},
   "outputs": [
    {
     "data": {
      "text/plain": [
       "6-element Array{Array{Float64,1},1}:\n",
       " [-3.0524289639639193, -1.1362702351197462, 0.0021921466059513827]\n",
       " [-3.2121885079421375, -1.143864053718042, -0.002192146605951791]\n",
       " [6.264617471906057, 2.2801342888377882, 4.082155997157844e-16]\n",
       " [0.040698345008973756, 0.6866284977602827, 0.5581768756088485]\n",
       " [0.16324306569780364, -1.2469529185688755, -0.5581768756088485]\n",
       " [-0.1019707053533887, 0.28016221040429645, 0.0]"
      ]
     },
     "execution_count": 18,
     "metadata": {},
     "output_type": "execute_result"
    }
   ],
   "source": [
    "r1 = valuesIn[1]+valuesOut[2]\n",
    "r2 = valuesIn[2]+valuesOut[2]\n",
    "r3 = valuesOut[1]\n",
    "p1 = valuesIn[3]+valuesOut[4]\n",
    "p2 = valuesIn[4]+valuesOut[4]\n",
    "p3 = valuesOut[3]\n",
    "\n",
    "[r1,r2,r3,p1,p2,p3] # These are the final values for the initial data taken with the center of mass of the system as the origin\n",
    "\n",
    "df = DataFrame(r10 = r1,\n",
    "                        r20  = r2,\n",
    "                        r30  = r3,\n",
    "                        p10  = p1,\n",
    "                        p20  = p2,\n",
    "                        p30  = p3,\n",
    "                        )\n",
    "CSV.write(userpath * \"/3BodyKozaiInitialData.csv\", df)"
   ]
  },
  {
   "cell_type": "markdown",
   "metadata": {},
   "source": [
    "# Two Body Circular Orbit Test"
   ]
  },
  {
   "cell_type": "code",
   "execution_count": 6,
   "metadata": {},
   "outputs": [
    {
     "data": {
      "text/plain": [
       "4-element Array{Array{Float64,1},1}:\n",
       " [0.09485722923706551, 0.0045088297927625655, 0.0026031740945816795]\n",
       " [-0.09485722923706551, -0.0045088297927625655, -0.0026031740945816795]\n",
       " [-0.028113687028940088, 0.44359399962562723, 0.2561091150947586]\n",
       " [0.028113687028940088, -0.44359399962562723, -0.2561091150947586]"
      ]
     },
     "execution_count": 6,
     "metadata": {},
     "output_type": "execute_result"
    }
   ],
   "source": [
    "initialdata(m1,m2,userG,aIn,0.9,iIn,wIn,omegaIn,MIn,tol0,u0)"
   ]
  },
  {
   "cell_type": "code",
   "execution_count": null,
   "metadata": {},
   "outputs": [],
   "source": []
  }
 ],
 "metadata": {
  "kernelspec": {
   "display_name": "Julia 1.6.2",
   "language": "julia",
   "name": "julia-1.6"
  },
  "language_info": {
   "file_extension": ".jl",
   "mimetype": "application/julia",
   "name": "julia",
   "version": "1.6.2"
  }
 },
 "nbformat": 4,
 "nbformat_minor": 4
}
